{
 "cells": [
  {
   "cell_type": "code",
   "execution_count": 100,
   "id": "dce2bbe9",
   "metadata": {},
   "outputs": [
    {
     "name": "stdout",
     "output_type": "stream",
     "text": [
      "\n"
     ]
    },
    {
     "name": "stderr",
     "output_type": "stream",
     "text": [
      "[WDM] - ====== WebDriver manager ======\n",
      "[WDM] - Current google-chrome version is 109.0.5414\n",
      "[WDM] - Get LATEST chromedriver version for 109.0.5414 google-chrome\n",
      "[WDM] - Driver [C:\\Users\\MV\\.wdm\\drivers\\chromedriver\\win32\\109.0.5414.74\\chromedriver.exe] found in cache\n"
     ]
    }
   ],
   "source": [
    "from selenium import webdriver\n",
    "from selenium.webdriver.chrome.service import Service\n",
    "from webdriver_manager.chrome import ChromeDriverManager\n",
    "from selenium.webdriver.common.by import By\n",
    "import time\n",
    "\n",
    "def create_driver(show_browser: bool):\n",
    "    \"\"\"\n",
    "    This function will return a browser driver with two options\n",
    "    show the browser\n",
    "    don't show the browser\n",
    "    \"\"\"\n",
    "    if(show_browser):\n",
    "        return webdriver.Chrome(service=Service(ChromeDriverManager().install()))\n",
    "    else:\n",
    "        op = webdriver.ChromeOptions()\n",
    "        op.add_argument('headless')\n",
    "        return webdriver.Chrome(service=Service(ChromeDriverManager().install()), options=op)\n",
    "\n",
    "time_period = 10\n",
    "browser = create_driver(show_browser=True)\n",
    "\n",
    "browser.get('https://www.pinksale.finance/launchpads/advanced?chain=BSC')  \n",
    "time.sleep(time_period)\n",
    "buttons =  browser.find_elements(by=By.CLASS_NAME, value='ant-pagination-item-link')\n",
    "button = buttons[1]\n",
    "pages = []\n",
    "while(button.get_attribute('disabled')==None):\n",
    "    table_rows= browser.find_elements(By.XPATH,\"/html/body/div[1]/section/section/main/div[2]/div[2]/div[2]/div/div[2]/div/div/div/div/div/div/div/div/div/div/table\")\n",
    "    pages.append(table_rows[0].text)\n",
    "    button.click()\n",
    "    time.sleep(time_period)\n",
    "table_rows= browser.find_elements(By.XPATH,\"/html/body/div[1]/section/section/main/div[2]/div[2]/div[2]/div/div[2]/div/div/div/div/div/div/div/div/div/div/table\")\n",
    "pages.append(table_rows[0].text)\n",
    "browser.quit()"
   ]
  },
  {
   "cell_type": "code",
   "execution_count": 26,
   "id": "07249dba",
   "metadata": {},
   "outputs": [],
   "source": [
    "# /html/body/div[1]/section/section/main/div[2]/div[2]/div[2]/div/div[2]/div/div/div/div/div/div/div/div/div/div/table"
   ]
  },
  {
   "cell_type": "code",
   "execution_count": 102,
   "id": "2aa7e002",
   "metadata": {},
   "outputs": [
    {
     "data": {
      "text/plain": [
       "['Name\\nHC\\nCoin\\nInitialCap\\nKYC/Audit\\nStatus\\nLinks\\nTGOnline\\nCountdown\\nEPNOC\\n16K BNB $31.7M\\nUpcoming\\n290 / 9.5K\\n00:03:55:34\\nView\\nSAFFI AUDIT\\nFairlaunch BNB $13.6K\\nUpcoming\\n1.7K / 2.3K\\n00:18:53:34\\nView\\nPriceAI\\nFairlaunch BNB $50K\\nUpcoming\\n65 / 2.9K\\n03:13:53:34\\nView\\nMeta Core Fungus\\nFairlaunch BNB $42.8K\\nUpcoming\\n2 / 92\\n01:13:53:34\\nView\\nMysteryFrogeInu\\nFairlaunch BNB $0\\n0.4/8\\n14 / 380\\n00:00:00:00\\nView\\nGreen Block Token\\n800 BNB $468.3K\\nUpcoming\\n69 / 658\\n11:19:53:34\\nView\\nBUSD PAY\\nFairlaunch BNB $18.7K\\nUpcoming\\n/ 3.1K\\n16:17:23:34\\nView\\nTweetFi\\n200 BNB $1M\\nUpcoming\\n843 / 4.7K\\n00:16:53:34\\nView\\nOur-Secret\\n100 ETH $637.3K\\nUpcoming\\n/ 17\\n28:23:53:34\\nView\\nRABBIDOGE\\n50K USDT $100K\\nUpcoming\\n5 / 495\\n02:18:53:34\\nView\\nGoge\\n550 BNB $547.5K\\nUpcoming\\n/ 30\\n05:20:53:34\\nView\\nGOBLINAR\\nFairlaunch BUSD $25.2K\\n8.8K/5K\\n/ 668\\n00:00:00:00\\nView\\n401koin\\n0 BNB $15.1M\\nUpcoming\\nN/A\\n00:00:39:34\\nView\\nCasolCoin\\n100 ETH $15.4M\\n0/100\\n/ 2.5K\\n00:00:00:00\\nView\\nHappy Learn\\nFairlaunch BNB $60.2K\\n0/50\\n/ 4.3K\\n00:00:00:00\\nView\\nGold Miners Coin\\n222 BNB $602.3K\\n0.1/222\\n/ 50\\n00:00:00:00\\nView\\nChainlabs DAO\\n1K BNB $6M\\n0/1K\\n8 / 258\\n00:00:00:00\\nView\\nCheems Token\\nFairlaunch BNB $14.5K\\nUpcoming\\n551 / 9.2K\\n01:16:53:34\\nView\\nAspirant\\n151 BNB $141.2K\\n0.5/151\\n/ 4.1K\\n00:00:00:00\\nView\\nswipe2earn.com Token\\n200 BNB $334.6K\\n0.4/200\\n28 / 2K\\n00:00:00:00\\nView\\nVirtual Trader\\nFairlaunch BNB $37K\\nUpcoming\\n278 / 9.8K\\n00:17:53:34\\nView\\nCannaChain\\n200 BNB $371.9K\\nUpcoming\\n/ 165\\n08:17:53:34\\nView\\nOLYXAI\\nFairlaunch USDT $32.2K\\nUpcoming\\n561 / 11.2K\\n01:16:53:34\\nView\\nBiconomic\\nFairlaunch BNB $4.5K\\n1.5/25\\n64 / 3.9K\\n00:00:00:00\\nView\\nWall Finance\\nFairlaunch BNB $37.6K\\nUpcoming\\n12 / 463\\n04:11:53:34\\nView',\n",
       " 'Name\\nHC\\nCoin\\nInitialCap\\nKYC/Audit\\nStatus\\nLinks\\nTGOnline\\nCountdown\\nRabbit New Year\\n150 BNB $100.3K\\nUpcoming\\n571 / 4.4K\\n00:14:53:23\\nView\\nAvatar Musk Verse\\nFairlaunch BNB $37.6K\\nUpcoming\\n12 / 322\\n10:21:53:23\\nView\\nLuckyToken\\n200 BNB $200.6K\\nUpcoming\\n64 / 2.3K\\n02:19:53:23\\nView\\n8BitEARN\\n200 BNB $371K\\n179.3/200\\n264 / 3.9K\\n00:00:00:00\\nView\\nSuper Moon Lotto\\n150 BNB $304.2K\\n19.3/150\\n253 / 12.2K\\n00:00:00:00\\nView\\nToken Pi Network Awake\\n50K BUSD $153.8K\\n0/50K\\n39 / 3.2K\\n00:00:00:00\\nView\\nMintPad\\nFairlaunch BNB $88.2K\\n102.9/50\\n250 / 6.2K\\n00:00:00:00\\nView\\nRewardTax\\nFairlaunch BNB $42.8K\\nUpcoming\\n1.4K / 44.8K\\n00:17:53:23\\nView\\nCryptoUnity\\n3K BNB $2.5M\\nUpcoming\\n110 / 2.1K\\n01:22:32:23\\nView\\nMetaGold\\n500 BNB $27.1M\\n0/500\\n956 / 26.6K\\n00:00:00:00\\nView\\nTokens Creator\\nFairlaunch MATIC $72.6K\\n0/25K\\n4 / 87\\n00:00:00:00\\nView\\nBaby Bonk Coin\\n200 BNB $231.6K\\nUpcoming\\n602 / 4.5K\\n00:16:53:23\\nView\\nBaoBey\\n600 BNB $141.3M\\n33.1/600\\n180 / 6K\\n00:00:00:00\\nView\\nDefiHarvest\\nFairlaunch BNB $602\\nUpcoming\\n14 / 764\\n14:18:53:23\\nView\\nBUSD Pay\\nFairlaunch BNB $18.7K\\nUpcoming\\n/ 3.1K\\n12:17:23:23\\nView\\nApefund V2\\n200 BNB $273.7K\\n26.3/200\\n/ 164\\n00:00:00:00\\nView\\nBad Bitches Token\\n50 BNB $30.1K\\n0/50\\nN/A\\n00:00:00:00\\nView\\nBeast Token\\nFairlaunch BNB $3.9K\\n5.2/10\\n/ 126\\n00:00:00:00\\nView\\nFloki Claus Coin\\nFairlaunch BNB $22.6K\\n0/50\\n2 / 366\\n00:00:00:00\\nView\\nAIRFI\\nFairlaunch BNB $1.4M\\n54.8/100\\n129 / 11K\\n00:00:00:00\\nView\\nDummyLand\\n300 BNB $437.9K\\n0.4/300\\nN/A\\n00:00:00:00\\nView\\nRABBOGE INU\\nFairlaunch BNB $29.5K\\n44.1/10\\n/ 1.6K\\n00:00:00:00\\nView\\nCryptegrity DAO\\n400 BNB $602.3K\\n400/400\\n196 / 1.4K\\n00:00:00:00\\nView\\nSuperSqueeze\\n10 BNB $2M\\n3.1/10\\n15 / 464\\n00:00:00:00\\nView\\nDoge Farm\\n300 BNB $602.3K\\n0/300\\n/ 42.5K\\n00:00:00:00\\nView',\n",
       " 'Name\\nHC\\nCoin\\nInitialCap\\nKYC/Audit\\nStatus\\nLinks\\nTGOnline\\nCountdown\\nQuamfox\\n800 BNB $6M\\n0/800\\n932 / 179.5K\\n00:00:00:00\\nView\\nKey Coin\\n6 BNB $60.2M\\n0.1/6\\nN/A\\n00:00:00:00\\nView\\nCommunity Inu\\n50 BNB $1.3M\\n3.3/50\\n44 / 2.4K\\n00:00:00:00\\nView\\nAubar\\n400 BNB $2.2M\\n0/400\\n/ 24\\n00:00:00:00\\nView\\nLucky Number Token\\n18K USDC $60K\\n12.1/18K\\n3 / 2.1K\\n00:00:00:00\\nView\\nMDCx\\n2K BNB $727.4M\\n0.1/2K\\n5 / 332\\n00:00:00:00\\nView\\nWarrior Nun\\nFairlaunch BUSD $1.3K\\n392.5/100\\n/ 7.9K\\n00:00:00:00\\nView\\nFamily\\n20 ETH $7.8M\\n0/20\\n/ 29\\n00:00:00:00\\nView\\nWOLF\\n10 ETH $5.3M\\n0/10\\n52 / 24.7K\\n00:00:00:00\\nView\\nREX\\n15 ETH $1.6M\\n0/15\\n52 / 24.7K\\n00:00:00:00\\nView\\nLisprocoin\\n20M MATIC $20T\\n0/20M\\nN/A\\n00:00:00:00\\nView\\nSteakD\\n1.2K BNB $1M\\nUpcoming\\n25 / 239\\n14:01:53:12\\nView\\nTeleverse\\n4 ETH $184.8K\\n0.2/4\\n/ 32\\n00:00:00:00\\nView\\nMy K9 Bites\\n100M CRO $1.6B\\n0/100M\\nN/A\\n00:00:00:00\\nView\\nQuontral\\nFairlaunch BNB $119.6K\\n159/1\\n138 / 2.3K\\n00:00:00:00\\nView\\nBinaryThings\\nFairlaunch BNB $146.7K\\nUpcoming\\n/ 49\\n12:14:23:12\\nView\\nnorf inu\\n102 ETH $1.6M\\n0/102\\n/ 69\\n00:00:00:00\\nView\\n4LEAF CLOVER\\n118 BNB $362.3K\\n0.1/118\\n9 / 674\\n00:00:00:00\\nView\\nHopiumSwap Token\\n600K USDT $2M\\n0/600K\\n29 / 1.6K\\n00:00:00:00\\nView\\nBillion Local Coin\\n1.6K BNB $4.8M\\n0.1/1.6K\\n12 / 2.2K\\n00:00:00:00\\nView\\nSorposis Token\\n60K MATIC $1M\\n11/60K\\n/ 182\\n00:00:00:00\\nView\\nBTCS19XP\\n1M USDT $1.2M\\n0/1M\\n63 / 5.2K\\n00:00:00:00\\nView\\nDRTP Token\\n5.5K BNB $3.2M\\nUpcoming\\n174 / 6.7K\\n18:13:53:12\\nView\\n7team.io\\n1 USDt $1.5M\\n1/1\\n2 / 17\\n00:00:00:00\\nView\\nMantra Coin\\n2.3K BNB $158.5M\\n0.1/2.3K\\n/ 528\\n00:00:00:00\\nView',\n",
       " 'Name\\nHC\\nCoin\\nInitialCap\\nKYC/Audit\\nStatus\\nLinks\\nTGOnline\\nCountdown\\nFastMoon\\n1 BNB $602\\n0.8/1\\nN/A\\n00:00:00:00\\nView\\nMySharpeiGotchi\\n25K BUSD $600K\\n14.6K/25K\\n67 / 2.5K\\n00:00:00:00\\nView\\nDOGESINO\\nFairlaunch BNB $196.7K\\n249.7/50\\n/ 1.4K\\n00:00:00:00\\nView\\nCryptoIRaceMeta\\n75 BNB $75.3K\\n70.4/75\\n999 / 59\\n00:00:00:00\\nView']"
      ]
     },
     "execution_count": 102,
     "metadata": {},
     "output_type": "execute_result"
    }
   ],
   "source": [
    "pages"
   ]
  },
  {
   "cell_type": "code",
   "execution_count": 117,
   "id": "7a916127",
   "metadata": {},
   "outputs": [
    {
     "name": "stdout",
     "output_type": "stream",
     "text": [
      "\n"
     ]
    },
    {
     "name": "stderr",
     "output_type": "stream",
     "text": [
      "[WDM] - ====== WebDriver manager ======\n",
      "[WDM] - Current google-chrome version is 109.0.5414\n",
      "[WDM] - Get LATEST chromedriver version for 109.0.5414 google-chrome\n",
      "[WDM] - Driver [C:\\Users\\MV\\.wdm\\drivers\\chromedriver\\win32\\109.0.5414.74\\chromedriver.exe] found in cache\n"
     ]
    },
    {
     "name": "stdout",
     "output_type": "stream",
     "text": [
      "done\n"
     ]
    }
   ],
   "source": [
    "from selenium import webdriver\n",
    "from selenium.webdriver.chrome.service import Service\n",
    "from webdriver_manager.chrome import ChromeDriverManager\n",
    "from selenium.webdriver.common.by import By\n",
    "import time\n",
    "\n",
    "def create_driver(show_browser: bool):\n",
    "    \"\"\"\n",
    "    This function will return a browser driver with two options\n",
    "    show the browser\n",
    "    don't show the browser\n",
    "    \"\"\"\n",
    "    if(show_browser):\n",
    "        return webdriver.Chrome(service=Service(ChromeDriverManager().install()))\n",
    "    else:\n",
    "        op = webdriver.ChromeOptions()\n",
    "        op.add_argument('headless')\n",
    "        return webdriver.Chrome(service=Service(ChromeDriverManager().install()), options=op)\n",
    "\n",
    "time_period = 5\n",
    "browser = create_driver(show_browser=True)\n",
    "\n",
    "browser.get('https://www.pinksale.finance/launchpads/advanced?chain=BSC')  \n",
    "time.sleep(time_period)\n",
    "button =  browser.find_elements(by=By.CLASS_NAME, value='ant-pagination-item-link')[1]\n",
    "pages=[]\n",
    "while(button.get_attribute('disabled')==None):\n",
    "    table_rows= browser.find_elements(By.XPATH,\"/html/body/div[1]/section/section/main/div[2]/div[2]/div[2]/div/div[2]/div/div/div/div/div/div/div/div/div/div/table\")\n",
    "    pages.append(table_rows[0].get_attribute('innerHTML'))\n",
    "    button.click()\n",
    "    time.sleep(time_period)\n",
    "\n",
    "browser.quit()\n",
    "print('done')"
   ]
  },
  {
   "cell_type": "code",
   "execution_count": 118,
   "id": "019a8eca",
   "metadata": {},
   "outputs": [
    {
     "data": {
      "text/plain": [
       "3"
      ]
     },
     "execution_count": 118,
     "metadata": {},
     "output_type": "execute_result"
    }
   ],
   "source": [
    "len(pages)"
   ]
  },
  {
   "cell_type": "code",
   "execution_count": null,
   "id": "7b9e86f1",
   "metadata": {},
   "outputs": [],
   "source": [
    "from bs4 import BeautifulSoup\n",
    "import pprint as pp\n",
    "\n",
    "def get_ele_data(column_name, key):\n",
    "    if(column_name in ['KYC/Audit', 'Links', 'profile_link']):\n",
    "        if(column_name=='KYC/Audit'):\n",
    "            svg_group = key.find_all('svg')\n",
    "            out = {\n",
    "                'Doxx': False,\n",
    "                'Safu': False,\n",
    "                'KYC':  False,\n",
    "                'Audit':False\n",
    "            }\n",
    "            for validity, ele in zip(out.keys(), svg_group):\n",
    "                path = ele.find(\"path\", {\"d\": \"M699 353h-46.9c-10.2 0-19.9 4.9-25.9 13.3L469 584.3l-71.2-98.8c-6-8.3-15.6-13.3-25.9-13.3H325c-6.5 0-10.3 7.4-6.5 12.7l124.6 172.8a31.8 31.8 0 0 0 51.7 0l210.6-292c3.9-5.3.1-12.7-6.4-12.7z\"})\n",
    "                if(path!=None):\n",
    "                    out[validity]=True\n",
    "            return out\n",
    "        elif(column_name=='Links'):\n",
    "            a_group = key.find_all('a')\n",
    "            out = {\n",
    "                'website': None,\n",
    "                'twitter': None,\n",
    "                'telegram':None,\n",
    "                'discord': None\n",
    "            }\n",
    "            platform_selector = {\n",
    "                'website': b'<circle cx=\"12\" cy=\"12\" r=\"10\"></circle><line x1=\"2\" x2=\"22\" y1=\"12\" y2=\"12\"></line><path d=\"M12 2a15.3 15.3 0 0 1 4 10 15.3 15.3 0 0 1-4 10 15.3 15.3 0 0 1-4-10 15.3 15.3 0 0 1 4-10z\"></path>',\n",
    "                'twitter': b'<path d=\"M23 3a10.9 10.9 0 0 1-3.14 1.53 4.48 4.48 0 0 0-7.86 3v1A10.66 10.66 0 0 1 3 4s-4 9 5 13a11.64 11.64 0 0 1-7 2c9 5 20 0 20-11.5a4.5 4.5 0 0 0-.08-.83A7.72 7.72 0 0 0 23 3z\"></path>',\n",
    "                'telegram':b'<path d=\"M446.7 98.6l-67.6 318.8c-5.1 22.5-18.4 28.1-37.3 17.5l-103-75.9-49.7 47.8c-5.5 5.5-10.1 10.1-20.7 10.1l7.4-104.9 190.9-172.5c8.3-7.4-1.8-11.5-12.9-4.1L117.8 284 16.2 252.2c-22.1-6.9-22.5-22.1 4.6-32.7L418.2 66.4c18.4-6.9 34.5 4.1 28.5 32.2z\"></path>',\n",
    "                'discord': b'<path d=\"M297.216 243.2c0 15.616-11.52 28.416-26.112 28.416-14.336 0-26.112-12.8-26.112-28.416s11.52-28.416 26.112-28.416c14.592 0 26.112 12.8 26.112 28.416zm-119.552-28.416c-14.592 0-26.112 12.8-26.112 28.416s11.776 28.416 26.112 28.416c14.592 0 26.112-12.8 26.112-28.416.256-15.616-11.52-28.416-26.112-28.416zM448 52.736V512c-64.494-56.994-43.868-38.128-118.784-107.776l13.568 47.36H52.48C23.552 451.584 0 428.032 0 398.848V52.736C0 23.552 23.552 0 52.48 0h343.04C424.448 0 448 23.552 448 52.736zm-72.96 242.688c0-82.432-36.864-149.248-36.864-149.248-36.864-27.648-71.936-26.88-71.936-26.88l-3.584 4.096c43.52 13.312 63.744 32.512 63.744 32.512-60.811-33.329-132.244-33.335-191.232-7.424-9.472 4.352-15.104 7.424-15.104 7.424s21.248-20.224 67.328-33.536l-2.56-3.072s-35.072-.768-71.936 26.88c0 0-36.864 66.816-36.864 149.248 0 0 21.504 37.12 78.08 38.912 0 0 9.472-11.52 17.152-21.248-32.512-9.728-44.8-30.208-44.8-30.208 3.766 2.636 9.976 6.053 10.496 6.4 43.21 24.198 104.588 32.126 159.744 8.96 8.96-3.328 18.944-8.192 29.44-15.104 0 0-12.8 20.992-46.336 30.464 7.68 9.728 16.896 20.736 16.896 20.736 56.576-1.792 78.336-38.912 78.336-38.912z\"></path>'\n",
    "            }\n",
    "            for platform in out.keys():\n",
    "                for ele in a_group:\n",
    "                    svg_ele = ele.find('svg')\n",
    "                    if(svg_ele.encode_contents()==platform_selector[platform]):\n",
    "                        out[platform]=ele['href']\n",
    "            return out\n",
    "        elif(column_name=='profile_link'):\n",
    "            # launchpad profile\n",
    "            return 'https://www.pinksale.finance'+key.find('a')['href']\n",
    "    return key.text\n",
    "\n",
    "soup = BeautifulSoup(pages[0])\n",
    "arr = soup.find_all('th')\n",
    "table_heading = []\n",
    "head_name_map = {}\n",
    "for i in range(len(arr)):\n",
    "    if(arr[i].text==''):\n",
    "        table_heading.append('profile_link')\n",
    "        head_name_map['profile_link']=i\n",
    "    else:\n",
    "        table_heading.append(arr[i].text)\n",
    "        head_name_map[arr[i].text]=i\n",
    "tokens_data = soup.find('tbody').find_all('tr')\n",
    "tokens_arr = []\n",
    "for single_token_data in tokens_data:\n",
    "    values = single_token_data.find_all('td')\n",
    "    token_data_arr = []\n",
    "    token_dir = {}\n",
    "    for key in table_heading:\n",
    "        token_dir[key]=get_ele_data(key, values[head_name_map[key]])\n",
    "    tokens_arr.append(token_dir)\n",
    "pp.pprint(tokens_arr)\n"
   ]
  },
  {
   "cell_type": "code",
   "execution_count": 26,
   "id": "ad6a518e",
   "metadata": {},
   "outputs": [
    {
     "name": "stdout",
     "output_type": "stream",
     "text": [
      "\n"
     ]
    },
    {
     "name": "stderr",
     "output_type": "stream",
     "text": [
      "[WDM] - ====== WebDriver manager ======\n",
      "[WDM] - Current google-chrome version is 109.0.5414\n",
      "[WDM] - Get LATEST chromedriver version for 109.0.5414 google-chrome\n",
      "[WDM] - There is no [win32] chromedriver for browser 109.0.5414 in cache\n",
      "[WDM] - About to download new driver from https://chromedriver.storage.googleapis.com/109.0.5414.74/chromedriver_win32.zip\n",
      "[WDM] - Driver has been saved in cache [C:\\Users\\MV\\.wdm\\drivers\\chromedriver\\win32\\109.0.5414.74]\n"
     ]
    }
   ],
   "source": [
    "browser = webdriver.Chrome(executable_path=r\"C:\\Users\\MV\\Documents\\chromedriver.exe\")"
   ]
  },
  {
   "cell_type": "code",
   "execution_count": 4,
   "id": "9ca029a1",
   "metadata": {},
   "outputs": [
    {
     "name": "stderr",
     "output_type": "stream",
     "text": [
      "'conda' is not recognized as an internal or external command,\n",
      "operable program or batch file.\n"
     ]
    }
   ],
   "source": [
    "! conda env list"
   ]
  },
  {
   "cell_type": "code",
   "execution_count": null,
   "id": "2783514e",
   "metadata": {},
   "outputs": [],
   "source": []
  }
 ],
 "metadata": {
  "kernelspec": {
   "display_name": "Python 3 (ipykernel)",
   "language": "python",
   "name": "python3"
  },
  "language_info": {
   "codemirror_mode": {
    "name": "ipython",
    "version": 3
   },
   "file_extension": ".py",
   "mimetype": "text/x-python",
   "name": "python",
   "nbconvert_exporter": "python",
   "pygments_lexer": "ipython3",
   "version": "3.10.1"
  },
  "vscode": {
   "interpreter": {
    "hash": "8788e32f13521daff9ff60122ccd4e7c66381ecbc5e915dc9dce882322d98e6a"
   }
  }
 },
 "nbformat": 4,
 "nbformat_minor": 5
}
